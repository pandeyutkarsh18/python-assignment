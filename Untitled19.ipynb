{
 "cells": [
  {
   "cell_type": "code",
   "execution_count": 1,
   "id": "ef986450",
   "metadata": {},
   "outputs": [
    {
     "name": "stdout",
     "output_type": "stream",
     "text": [
      "Enter first number: 15\n",
      "Enter second number: 20\n",
      "The L.C.M. of 15 and 20 is 60\n"
     ]
    }
   ],
   "source": [
    "def calculate_lcm(x, y):  \n",
    "      \n",
    "    if x > y:  \n",
    "        greater = x  \n",
    "    else:  \n",
    "        greater = y  \n",
    "    while(True):  \n",
    "        if((greater % x == 0) and (greater % y == 0)):  \n",
    "            lcm = greater  \n",
    "            break  \n",
    "        greater += 1  \n",
    "    return lcm    \n",
    "  \n",
    "  \n",
    "num1 = int(input(\"Enter first number: \"))  \n",
    "num2 = int(input(\"Enter second number: \"))  \n",
    "  \n",
    "print(\"The L.C.M. of\", num1,\"and\", num2,\"is\", calculate_lcm(num1, num2))"
   ]
  },
  {
   "cell_type": "code",
   "execution_count": 2,
   "id": "0f8e5d67",
   "metadata": {},
   "outputs": [
    {
     "name": "stdout",
     "output_type": "stream",
     "text": [
      "Enter first number: 12\n",
      "Enter second number: 14\n",
      "The H.C.F. of 12 and 14 is 2\n"
     ]
    }
   ],
   "source": [
    "def calculate_hcf(x, y):  \n",
    "      \n",
    "    if x > y:  \n",
    "        smaller = y  \n",
    "    else:  \n",
    "        smaller = x  \n",
    "    for i in range(1,smaller + 1):  \n",
    "        if((x % i == 0) and (y % i == 0)):  \n",
    "            hcf = i  \n",
    "    return hcf  \n",
    "  \n",
    "  \n",
    "num1 = int(input(\"Enter first number: \"))  \n",
    "num2 = int(input(\"Enter second number: \"))  \n",
    "  \n",
    "print(\"The H.C.F. of\", num1,\"and\", num2,\"is\", calculate_hcf(num1, num2))"
   ]
  },
  {
   "cell_type": "code",
   "execution_count": 3,
   "id": "ec1628f8",
   "metadata": {},
   "outputs": [
    {
     "name": "stdout",
     "output_type": "stream",
     "text": [
      " Enter the Decimal Number: 15\n",
      "The given decimal number 15 in Binary number is:  0b1111\n",
      "The given decimal number 15 in Octal number is:  0o17\n",
      "The given decimal number 15  in Hexadecimal number is:  0xf\n"
     ]
    }
   ],
   "source": [
    "def decimal_into_binary(decimal_1):  \n",
    "    decimal = int(decimal_1)  \n",
    "      \n",
    "    print (\"The given decimal number\", decimal, \"in Binary number is: \", bin(decimal))  \n",
    "  \n",
    "def decimal_into_octal(decimal_1):  \n",
    "    decimal = int(decimal_1)  \n",
    "    \n",
    "      \n",
    "    print (\"The given decimal number\", decimal, \"in Octal number is: \", oct(decimal))  \n",
    "  \n",
    "def decimal_into_hexadecimal(decimal_1):  \n",
    "    decimal = int(decimal_1)  \n",
    "    \n",
    "      \n",
    "    print (\"The given decimal number\", decimal, \" in Hexadecimal number is: \", hex(decimal))  \n",
    "    \n",
    "  \n",
    "decimal_1 = int (input (\" Enter the Decimal Number: \"))  \n",
    "decimal_into_binary(decimal_1)  \n",
    "decimal_into_octal(decimal_1)  \n",
    "decimal_into_hexadecimal(decimal_1)"
   ]
  },
  {
   "cell_type": "code",
   "execution_count": 4,
   "id": "ab9bcd34",
   "metadata": {},
   "outputs": [
    {
     "name": "stdout",
     "output_type": "stream",
     "text": [
      "Please enter a character: K\n",
      "The ASCII value of 'K' is  75\n"
     ]
    }
   ],
   "source": [
    "A = input(\"Please enter a character: \")    \n",
    "    \n",
    "print (\"The ASCII value of '\" + A + \"' is \", ord(A))"
   ]
  },
  {
   "cell_type": "code",
   "execution_count": 5,
   "id": "80b15cc5",
   "metadata": {},
   "outputs": [
    {
     "name": "stdout",
     "output_type": "stream",
     "text": [
      "Select operation.\n",
      "1.Add\n",
      "2.Subtract\n",
      "3.Multiply\n",
      "4.Divide\n",
      "Enter choice(1/2/3/4): 1\n",
      "Enter first number: 567\n",
      "Enter second number: 321\n",
      "567.0 + 321.0 = 888.0\n",
      "Let's do next calculation? (yes/no): yes\n",
      "Enter choice(1/2/3/4): 3\n",
      "Enter first number: 34\n",
      "Enter second number: 20\n",
      "34.0 * 20.0 = 680.0\n",
      "Let's do next calculation? (yes/no): no\n"
     ]
    }
   ],
   "source": [
    "def add(x, y):\n",
    "    return x + y\n",
    "\n",
    "def subtract(x, y):\n",
    "    return x - y\n",
    "\n",
    "def multiply(x, y):\n",
    "    return x * y\n",
    "\n",
    "def divide(x, y):\n",
    "    return x / y\n",
    "\n",
    "\n",
    "print(\"Select operation.\")\n",
    "print(\"1.Add\")\n",
    "print(\"2.Subtract\")\n",
    "print(\"3.Multiply\")\n",
    "print(\"4.Divide\")\n",
    "\n",
    "while True:\n",
    "    \n",
    "    choice = input(\"Enter choice(1/2/3/4): \")\n",
    "\n",
    "    \n",
    "    if choice in ('1', '2', '3', '4'):\n",
    "        num1 = float(input(\"Enter first number: \"))\n",
    "        num2 = float(input(\"Enter second number: \"))\n",
    "\n",
    "        if choice == '1':\n",
    "            print(num1, \"+\", num2, \"=\", add(num1, num2))\n",
    "\n",
    "        elif choice == '2':\n",
    "            print(num1, \"-\", num2, \"=\", subtract(num1, num2))\n",
    "\n",
    "        elif choice == '3':\n",
    "            print(num1, \"*\", num2, \"=\", multiply(num1, num2))\n",
    "\n",
    "        elif choice == '4':\n",
    "            print(num1, \"/\", num2, \"=\", divide(num1, num2))\n",
    "        \n",
    "        \n",
    "        next_calculation = input(\"Let's do next calculation? (yes/no): \")\n",
    "        if next_calculation == \"no\":\n",
    "          break\n",
    "    \n",
    "    else:\n",
    "        print(\"Invalid Input\")"
   ]
  },
  {
   "cell_type": "code",
   "execution_count": null,
   "id": "bed5da09",
   "metadata": {},
   "outputs": [],
   "source": []
  }
 ],
 "metadata": {
  "kernelspec": {
   "display_name": "Python 3 (ipykernel)",
   "language": "python",
   "name": "python3"
  },
  "language_info": {
   "codemirror_mode": {
    "name": "ipython",
    "version": 3
   },
   "file_extension": ".py",
   "mimetype": "text/x-python",
   "name": "python",
   "nbconvert_exporter": "python",
   "pygments_lexer": "ipython3",
   "version": "3.9.12"
  }
 },
 "nbformat": 4,
 "nbformat_minor": 5
}
