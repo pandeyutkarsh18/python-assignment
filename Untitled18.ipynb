{
 "cells": [
  {
   "cell_type": "code",
   "execution_count": 1,
   "id": "358cb7c7",
   "metadata": {},
   "outputs": [
    {
     "name": "stdout",
     "output_type": "stream",
     "text": [
      "Enter a number: 5\n",
      "The factorial of 5 is 120\n"
     ]
    }
   ],
   "source": [
    "num = int(input(\"Enter a number: \"))    \n",
    "factorial = 1    \n",
    "if num < 0:    \n",
    "   print(\" Factorial does not exist for negative numbers\")    \n",
    "elif num == 0:    \n",
    "   print(\"The factorial of 0 is 1\")    \n",
    "else:    \n",
    "   for i in range(1,num + 1):    \n",
    "       factorial = factorial*i    \n",
    "   print(\"The factorial of\",num,\"is\",factorial)"
   ]
  },
  {
   "cell_type": "code",
   "execution_count": 2,
   "id": "154e6b6b",
   "metadata": {},
   "outputs": [
    {
     "name": "stdout",
     "output_type": "stream",
     "text": [
      "Display multiplication table of? 17\n",
      "17 x 1 = 17\n",
      "17 x 2 = 34\n",
      "17 x 3 = 51\n",
      "17 x 4 = 68\n",
      "17 x 5 = 85\n",
      "17 x 6 = 102\n",
      "17 x 7 = 119\n",
      "17 x 8 = 136\n",
      "17 x 9 = 153\n",
      "17 x 10 = 170\n"
     ]
    }
   ],
   "source": [
    "num = int(input(\"Display multiplication table of? \"))\n",
    "\n",
    "for i in range(1, 11):\n",
    "   print(num, 'x', i, '=', num*i)"
   ]
  },
  {
   "cell_type": "code",
   "execution_count": 3,
   "id": "e409551f",
   "metadata": {},
   "outputs": [
    {
     "name": "stdout",
     "output_type": "stream",
     "text": [
      "How many terms the user wants to print? 15\n",
      "The fibonacci sequence of the numbers is:\n",
      "0\n",
      "1\n",
      "1\n",
      "2\n",
      "3\n",
      "5\n",
      "8\n",
      "13\n",
      "21\n",
      "34\n",
      "55\n",
      "89\n",
      "144\n",
      "233\n",
      "377\n"
     ]
    }
   ],
   "source": [
    "n_terms = int(input (\"How many terms the user wants to print? \"))  \n",
    "    \n",
    "n_1 = 0  \n",
    "n_2 = 1  \n",
    "count = 0  \n",
    "    \n",
    "if n_terms <= 0:  \n",
    "    print (\"Please enter a positive integer, the given number is not valid\")  \n",
    " \n",
    "elif n_terms == 1:  \n",
    "    print (\"The Fibonacci sequence of the numbers up to\", n_terms, \": \")  \n",
    "    print(n_1)  \n",
    "  \n",
    "else:  \n",
    "    print (\"The fibonacci sequence of the numbers is:\")  \n",
    "    while count < n_terms:  \n",
    "        print(n_1)  \n",
    "        nth = n_1 + n_2  \n",
    "      \n",
    "        n_1 = n_2  \n",
    "        n_2 = nth  \n",
    "        count += 1"
   ]
  },
  {
   "cell_type": "code",
   "execution_count": 4,
   "id": "1391fb3d",
   "metadata": {},
   "outputs": [
    {
     "name": "stdout",
     "output_type": "stream",
     "text": [
      "Enter a number: 123\n",
      "123 is not an Armstrong number\n"
     ]
    }
   ],
   "source": [
    "n = int(input(\"Enter a number: \"))\n",
    "\n",
    "s = 0\n",
    "\n",
    "t = n\n",
    "\n",
    "while t > 0:\n",
    "\n",
    "   digit = t % 10\n",
    "\n",
    "   s += digit ** 3\n",
    "\n",
    "   t //= 10\n",
    "\n",
    "\n",
    "if n == s:\n",
    "\n",
    "   print(n,\"is an Armstrong number\")\n",
    "\n",
    "else:\n",
    "\n",
    "   print(n,\"is not an Armstrong number\")"
   ]
  },
  {
   "cell_type": "code",
   "execution_count": 5,
   "id": "2d289c8e",
   "metadata": {},
   "outputs": [
    {
     "name": "stdout",
     "output_type": "stream",
     "text": [
      "153\n",
      "370\n",
      "371\n",
      "407\n",
      "1634\n"
     ]
    }
   ],
   "source": [
    "lower = 50\n",
    "upper = 2000\n",
    "\n",
    "for num in range(lower, upper + 1):\n",
    "\n",
    "   order = len(str(num))\n",
    "    \n",
    "   sum = 0\n",
    "\n",
    "   temp = num\n",
    "   while temp > 0:\n",
    "       digit = temp % 10\n",
    "       sum += digit ** order\n",
    "       temp //= 10\n",
    "\n",
    "   if num == sum:\n",
    "       print(num)"
   ]
  },
  {
   "cell_type": "code",
   "execution_count": 9,
   "id": "20598c51",
   "metadata": {},
   "outputs": [
    {
     "name": "stdout",
     "output_type": "stream",
     "text": [
      "Enter a number: 45\n",
      "The sum is 1035\n"
     ]
    }
   ],
   "source": [
    "num = int(input(\"Enter a number: \"))  \n",
    "  \n",
    "if num < 0:  \n",
    "   print(\"Enter a positive number\")  \n",
    "else:  \n",
    "   sum = 0  \n",
    "     \n",
    "   while(num > 0):  \n",
    "       sum += num  \n",
    "       num -= 1  \n",
    "   print(\"The sum is\",sum)"
   ]
  },
  {
   "cell_type": "code",
   "execution_count": null,
   "id": "804e711a",
   "metadata": {},
   "outputs": [],
   "source": []
  }
 ],
 "metadata": {
  "kernelspec": {
   "display_name": "Python 3 (ipykernel)",
   "language": "python",
   "name": "python3"
  },
  "language_info": {
   "codemirror_mode": {
    "name": "ipython",
    "version": 3
   },
   "file_extension": ".py",
   "mimetype": "text/x-python",
   "name": "python",
   "nbconvert_exporter": "python",
   "pygments_lexer": "ipython3",
   "version": "3.9.12"
  }
 },
 "nbformat": 4,
 "nbformat_minor": 5
}
